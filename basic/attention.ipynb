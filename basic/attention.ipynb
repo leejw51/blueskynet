{
 "cells": [
  {
   "cell_type": "code",
   "execution_count": 5,
   "metadata": {},
   "outputs": [
    {
     "name": "stdout",
     "output_type": "stream",
     "text": [
      "Query vectors:\n",
      "[array([0.80965449, 0.86739571, 0.44637814, 0.61065135]), array([1.35205301, 1.94806632, 0.71269348, 1.285359  ]), array([1.44736219, 1.49829822, 0.55505602, 1.13644276]), array([1.56779446, 1.29529153, 0.80624619, 1.35735643]), array([1.33840339, 1.38194355, 0.76648119, 0.88539118])]\n",
      "Key vectors:\n",
      "[array([0.58830372, 0.51757278, 0.78007383, 0.67727276]), array([1.33032519, 0.81810004, 1.19974553, 1.77593388]), array([0.72963896, 0.71595254, 1.21622327, 1.09851723]), array([1.28852087, 0.80910579, 1.42485675, 1.20767137]), array([1.11655427, 0.5140023 , 0.89341356, 1.55382853])]\n",
      "Value vectors:\n",
      "[1.02228746 1.80730182 1.1828979  1.04265604]\n"
     ]
    }
   ],
   "source": [
    "import numpy as np\n",
    "input_seq = [\n",
    "  [0.2, 0.3, 0.5, 0.1, 0.4],\n",
    "  [0.8, 0.6, 0.4, 0.9, 0.1],\n",
    "  [0.1, 0.2, 0.7, 0.6, 0.8],\n",
    "  [0.5, 0.6, 0.1, 0.3, 0.9],\n",
    "  [0.3, 0.9, 0.2, 0.8, 0.1]\n",
    "]\n",
    "\n",
    "W_q = np.random.rand(5, 4)\n",
    "W_k = np.random.rand(5, 4)\n",
    "W_v = np.random.rand(5, 4)\n",
    "\n",
    "queries = []\n",
    "keys = []\n",
    "values = []\n",
    "\n",
    "for i in range(len(input_seq)):\n",
    "  embedding = np.array(input_seq[i])\n",
    "  query = np.dot(embedding, W_q)\n",
    "  key = np.dot(embedding, W_k)\n",
    "  value = np.dot(embedding, W_v)\n",
    "  queries.append(query)\n",
    "  keys.append(key)\n",
    "  values.append(value)\n",
    "  \n",
    "print(\"Query vectors:\")\n",
    "print(queries)\n",
    "print(\"Key vectors:\")\n",
    "print(keys)\n",
    "print(\"Value vectors:\")\n",
    "print(value)\n",
    "\n",
    "\n",
    "\n"
   ]
  },
  {
   "cell_type": "code",
   "execution_count": 9,
   "metadata": {},
   "outputs": [
    {
     "name": "stdout",
     "output_type": "stream",
     "text": [
      "Epoch 1, Loss: 4.7858\n",
      "Epoch 2, Loss: 4.6965\n",
      "Epoch 3, Loss: 4.6685\n",
      "Epoch 4, Loss: 4.6554\n",
      "Epoch 5, Loss: 4.6383\n",
      "Epoch 6, Loss: 4.6327\n",
      "Epoch 7, Loss: 4.6342\n",
      "Epoch 8, Loss: 4.6281\n",
      "Epoch 9, Loss: 4.6238\n",
      "Epoch 10, Loss: 4.6237\n"
     ]
    }
   ],
   "source": [
    "import torch\n",
    "import torch.nn as nn\n",
    "import torch.nn.functional as F\n",
    "import torch.optim as optim\n",
    "\n",
    "# Define the Transformer model\n",
    "class TransformerModel(nn.Module):\n",
    "    def __init__(self, num_tokens, embedding_dim, num_heads, hidden_dim, num_layers):\n",
    "        super().__init__()\n",
    "        self.embedding = nn.Embedding(num_tokens, embedding_dim)\n",
    "        self.encoder = nn.TransformerEncoder(nn.TransformerEncoderLayer(embedding_dim, num_heads, hidden_dim), num_layers=num_layers)\n",
    "        self.decoder = nn.TransformerDecoder(nn.TransformerDecoderLayer(embedding_dim, num_heads, hidden_dim), num_layers=num_layers)\n",
    "        self.fc = nn.Linear(embedding_dim, num_tokens)\n",
    "\n",
    "    def forward(self, input_seq, output_seq):\n",
    "        # Embed the input and output sequences\n",
    "        input_embeddings = self.embedding(input_seq)\n",
    "        output_embeddings = self.embedding(output_seq)\n",
    "        \n",
    "        # Encode the input sequence\n",
    "        encoded = self.encoder(input_embeddings)\n",
    "        \n",
    "        # Decode the output sequence\n",
    "        decoded = self.decoder(output_embeddings, encoded)\n",
    "        \n",
    "        # Compute the probabilities of the next token for each position in the sequence\n",
    "        logits = self.fc(decoded)\n",
    "        probs = F.softmax(logits, dim=-1)\n",
    "        \n",
    "        return probs\n",
    "\n",
    "# Instantiate the model\n",
    "model = TransformerModel(num_tokens=100, embedding_dim=128, num_heads=8, hidden_dim=512, num_layers=2)\n",
    "\n",
    "# Define the loss function and optimizer\n",
    "criterion = nn.NLLLoss()\n",
    "optimizer = optim.Adam(model.parameters(), lr=0.001)\n",
    "\n",
    "# Define the input and output sequences\n",
    "input_seq = torch.tensor([[1, 2, 3, 4, 5], [6, 7, 8, 9, 10]])\n",
    "output_seq = torch.tensor([[2, 3, 4, 5, 6], [7, 8, 9, 10, 11]])\n",
    "\n",
    "# Define the mask for the MLM objective\n",
    "mask = torch.tensor([[0, 1, 1, 0, 0], [1, 0, 0, 1, 0]])\n",
    "\n",
    "# Train the model\n",
    "for epoch in range(10):\n",
    "    optimizer.zero_grad()\n",
    "\n",
    "    # Compute the probabilities of the next token for each position in the sequence\n",
    "    probs = model(input_seq, output_seq)\n",
    "\n",
    "    # Compute the negative log-likelihood of the correct tokens\n",
    "    loss = -torch.log(probs[mask.bool()]).mean()\n",
    "\n",
    "    # Backpropagate the gradients and update the weights\n",
    "    loss.backward()\n",
    "    optimizer.step()\n",
    "\n",
    "    print(f\"Epoch {epoch+1}, Loss: {loss.item():.4f}\")\n"
   ]
  }
 ],
 "metadata": {
  "kernelspec": {
   "display_name": "Python 3",
   "language": "python",
   "name": "python3"
  },
  "language_info": {
   "codemirror_mode": {
    "name": "ipython",
    "version": 3
   },
   "file_extension": ".py",
   "mimetype": "text/x-python",
   "name": "python",
   "nbconvert_exporter": "python",
   "pygments_lexer": "ipython3",
   "version": "3.10.10"
  },
  "orig_nbformat": 4
 },
 "nbformat": 4,
 "nbformat_minor": 2
}
