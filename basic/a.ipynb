{
 "cells": [
  {
   "cell_type": "code",
   "execution_count": 27,
   "metadata": {},
   "outputs": [
    {
     "name": "stdout",
     "output_type": "stream",
     "text": [
      "position shape= (5, 1)\n",
      "position= [[0]\n",
      " [1]\n",
      " [2]\n",
      " [3]\n",
      " [4]]\n",
      "div_term shape= (2,)\n",
      "div_term= [1.   0.01]\n",
      "position * div_term shape= (5, 2)\n",
      "position * div_term= [[0.   0.  ]\n",
      " [1.   0.01]\n",
      " [2.   0.02]\n",
      " [3.   0.03]\n",
      " [4.   0.04]]\n",
      "np.sin(position * div_term)= [[ 0.          0.        ]\n",
      " [ 0.84147098  0.00999983]\n",
      " [ 0.90929743  0.01999867]\n",
      " [ 0.14112001  0.0299955 ]\n",
      " [-0.7568025   0.03998933]]\n",
      "position * div_term *10 = [[ 0.   0. ]\n",
      " [10.   0.1]\n",
      " [20.   0.2]\n",
      " [30.   0.3]\n",
      " [40.   0.4]]\n",
      "(5, 4)\n",
      "[[ 0.          1.          0.          1.        ]\n",
      " [ 0.84147098  0.54030231  0.00999983  0.99995   ]\n",
      " [ 0.90929743 -0.41614684  0.01999867  0.99980001]\n",
      " [ 0.14112001 -0.9899925   0.0299955   0.99955003]\n",
      " [-0.7568025  -0.65364362  0.03998933  0.99920011]]\n"
     ]
    }
   ],
   "source": [
    "import numpy as np\n",
    "\n",
    "def get_positional_encoding(max_length, d_model):    \n",
    "    position = np.arange(max_length)[:, np.newaxis]\n",
    "    print(\"position shape=\",position.shape)\n",
    "    print(\"position=\",position)\n",
    "    div_term = np.exp(np.arange(0, d_model, 2) * -(np.log(10000.0) / d_model))\n",
    "    print(\"div_term shape=\",div_term.shape)\n",
    "    print(\"div_term=\",div_term)\n",
    "    pos_enc = np.zeros((max_length, d_model))\n",
    "    print(\"position * div_term shape=\",(position * div_term).shape)\n",
    "    print(\"position * div_term=\",(position * div_term))\n",
    "    print(\"np.sin(position * div_term)=\",np.sin(position * div_term))\n",
    "    print(\"position * div_term *10 =\",(position * div_term)*10)\n",
    "    pos_enc[:, 0::2] = np.sin(position * div_term)\n",
    "    pos_enc[:, 1::2] = np.cos(position * div_term)\n",
    "    return pos_enc\n",
    "\n",
    "def test1():\n",
    "    max_length = 5\n",
    "    d_model = 4\n",
    "    pos_enc = get_positional_encoding(max_length, d_model)\n",
    "    print(pos_enc.shape)\n",
    "    print(pos_enc)\n",
    "\n",
    "def test2():\n",
    "    a=np.arange(5)\n",
    "    print(a)\n",
    "    a=np.arange(5)[:,np.newaxis]\n",
    "    print(a)\n",
    "\n",
    "test1()"
   ]
  },
  {
   "cell_type": "code",
   "execution_count": 17,
   "metadata": {},
   "outputs": [
    {
     "data": {
      "text/plain": [
       "array([  0, -20])"
      ]
     },
     "execution_count": 17,
     "metadata": {},
     "output_type": "execute_result"
    }
   ],
   "source": [
    "d_model=4\n",
    "np.arange(0, d_model, 2) * -10"
   ]
  }
 ],
 "metadata": {
  "kernelspec": {
   "display_name": "Python 3",
   "language": "python",
   "name": "python3"
  },
  "language_info": {
   "codemirror_mode": {
    "name": "ipython",
    "version": 3
   },
   "file_extension": ".py",
   "mimetype": "text/x-python",
   "name": "python",
   "nbconvert_exporter": "python",
   "pygments_lexer": "ipython3",
   "version": "3.8.3"
  },
  "orig_nbformat": 4
 },
 "nbformat": 4,
 "nbformat_minor": 2
}
